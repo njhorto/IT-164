{
  "nbformat": 4,
  "nbformat_minor": 0,
  "metadata": {
    "colab": {
      "name": "OpenWeatherAPIPractice Nate_Horton",
      "provenance": [],
      "collapsed_sections": [],
      "authorship_tag": "ABX9TyMzCRjYygdzJFazNrZ0moYw",
      "include_colab_link": true
    },
    "kernelspec": {
      "name": "python3",
      "display_name": "Python 3"
    },
    "language_info": {
      "name": "python"
    }
  },
  "cells": [
    {
      "cell_type": "markdown",
      "metadata": {
        "id": "view-in-github",
        "colab_type": "text"
      },
      "source": [
        "<a href=\"https://colab.research.google.com/github/njhorto/IT-164/blob/main/OpenWeatherAPIPractice_Nate_Horton.ipynb\" target=\"_parent\"><img src=\"https://colab.research.google.com/assets/colab-badge.svg\" alt=\"Open In Colab\"/></a>"
      ]
    },
    {
      "cell_type": "code",
      "execution_count": 1,
      "metadata": {
        "colab": {
          "base_uri": "https://localhost:8080/"
        },
        "id": "fiLx4kmYfac0",
        "outputId": "7dabaee8-2fa6-4694-8e7e-46bd5932a4b2"
      },
      "outputs": [
        {
          "output_type": "stream",
          "name": "stdout",
          "text": [
            "Looking in indexes: https://pypi.org/simple, https://us-python.pkg.dev/colab-wheels/public/simple/\n",
            "Collecting pyowm\n",
            "  Downloading pyowm-3.3.0-py3-none-any.whl (4.5 MB)\n",
            "\u001b[K     |████████████████████████████████| 4.5 MB 16.2 MB/s \n",
            "\u001b[?25hRequirement already satisfied: requests<3,>=2.20.0 in /usr/local/lib/python3.7/dist-packages (from pyowm) (2.23.0)\n",
            "Collecting geojson<3,>=2.3.0\n",
            "  Downloading geojson-2.5.0-py2.py3-none-any.whl (14 kB)\n",
            "Requirement already satisfied: PySocks<2,>=1.7.1 in /usr/local/lib/python3.7/dist-packages (from pyowm) (1.7.1)\n",
            "Requirement already satisfied: chardet<4,>=3.0.2 in /usr/local/lib/python3.7/dist-packages (from requests<3,>=2.20.0->pyowm) (3.0.4)\n",
            "Requirement already satisfied: certifi>=2017.4.17 in /usr/local/lib/python3.7/dist-packages (from requests<3,>=2.20.0->pyowm) (2022.6.15)\n",
            "Requirement already satisfied: urllib3!=1.25.0,!=1.25.1,<1.26,>=1.21.1 in /usr/local/lib/python3.7/dist-packages (from requests<3,>=2.20.0->pyowm) (1.24.3)\n",
            "Requirement already satisfied: idna<3,>=2.5 in /usr/local/lib/python3.7/dist-packages (from requests<3,>=2.20.0->pyowm) (2.10)\n",
            "Installing collected packages: geojson, pyowm\n",
            "Successfully installed geojson-2.5.0 pyowm-3.3.0\n"
          ]
        }
      ],
      "source": [
        "!pip install pyowm"
      ]
    },
    {
      "cell_type": "code",
      "source": [
        "from pyowm.owm import OWM\n",
        "\n",
        "myKey='6f7da64eb1d071afa8ff188c45d4ecd9'\n",
        "owm= OWM(myKey)\n",
        "wmg=owm.weather_manager()\n"
      ],
      "metadata": {
        "id": "E26jxeUpiatU"
      },
      "execution_count": 18,
      "outputs": []
    },
    {
      "cell_type": "code",
      "source": [
        "city= input('what city would you like to teleport to: ')\n",
        "country= input('what country is the city in: ')\n",
        "citycountry=city+ ', '+country\n",
        "\n",
        "observation=wmg.weather_at_place(citycountry)\n",
        "weather=observation.weather\n",
        "\n",
        "temperature=weather.temperature(\"fahrenheit\")\n",
        "print(temperature)\n",
        "\n",
        "feellike=temperature.get('feels_like')\n",
        "print(feellike)\n",
        "\n",
        "if feellike <30:\n",
        "    print('you need a winter jacket if you want to go in a walk in',citycountry)\n",
        "\n",
        "elif feellike <50:\n",
        "    print('you need a light jacked if you want to go out in', citycountry)\n",
        "\n",
        "elif feellike <70:\n",
        "    print('you may want to dress in layers if you want to walk in', citycountry)\n",
        "\n",
        "else:\n",
        "    print('you can wear your summer outfit if you want to walk in', citycountry)"
      ],
      "metadata": {
        "colab": {
          "base_uri": "https://localhost:8080/"
        },
        "id": "RepPPBaxjCdH",
        "outputId": "5b3e2578-54c1-4df9-b3f6-f8b6a6e25220"
      },
      "execution_count": 21,
      "outputs": [
        {
          "output_type": "stream",
          "name": "stdout",
          "text": [
            "what city would you like to teleport to: Phoenix\n",
            "what country is the city in: US\n",
            "{'temp': 90.3, 'temp_max': 93.38, 'temp_min': 86.76, 'feels_like': 94.71, 'temp_kf': None}\n",
            "94.71\n",
            "you can wear your summer outfit if you want to walk in Phoenix, US\n"
          ]
        }
      ]
    },
    {
      "cell_type": "code",
      "source": [],
      "metadata": {
        "id": "5vkCK-4On0YO"
      },
      "execution_count": null,
      "outputs": []
    }
  ]
}