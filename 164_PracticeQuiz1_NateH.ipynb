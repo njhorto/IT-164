{
  "nbformat": 4,
  "nbformat_minor": 0,
  "metadata": {
    "colab": {
      "provenance": [],
      "authorship_tag": "ABX9TyMueldEeIQ7IXnkSIijZWLj",
      "include_colab_link": true
    },
    "kernelspec": {
      "name": "python3",
      "display_name": "Python 3"
    },
    "language_info": {
      "name": "python"
    }
  },
  "cells": [
    {
      "cell_type": "markdown",
      "metadata": {
        "id": "view-in-github",
        "colab_type": "text"
      },
      "source": [
        "<a href=\"https://colab.research.google.com/github/njhorto/IT-164/blob/main/164_PracticeQuiz1_NateH.ipynb\" target=\"_parent\"><img src=\"https://colab.research.google.com/assets/colab-badge.svg\" alt=\"Open In Colab\"/></a>"
      ]
    },
    {
      "cell_type": "code",
      "execution_count": 16,
      "metadata": {
        "colab": {
          "base_uri": "https://localhost:8080/"
        },
        "id": "Y4hfY3UQO0ZA",
        "outputId": "db278b9c-2b7f-46f2-b5ef-b27b37701090"
      },
      "outputs": [
        {
          "output_type": "stream",
          "name": "stdout",
          "text": [
            "What is the height of the recangle: 5\n",
            "What is the width of the recangle: 4\n",
            "The area of the rectangle is 20.0 , while the perimeter is 18.0\n"
          ]
        }
      ],
      "source": [
        "height=int(input('What is the height of the recangle: '))\n",
        "width=int(input('What is the width of the recangle: '))\n",
        "area=width*height \n",
        "perimeter=(width+height)*2\n",
        "\n",
        "print('The area of the rectangle is',area,', while the perimeter is',perimeter,)"
      ]
    },
    {
      "cell_type": "code",
      "source": [
        "height=int(input('What is your height in inches: '))\n",
        "weight=int(input('What is your weight in lbs: '))\n",
        "bmi=(weight/(height**2))*703\n",
        "\n",
        "print('The BMI of the height {:.1f} and your weight {:.1f} is {:.1f}'.format (height, weight, bmi))"
      ],
      "metadata": {
        "colab": {
          "base_uri": "https://localhost:8080/"
        },
        "id": "6TIbOWYjT_hG",
        "outputId": "6731ae9e-030a-4571-ff73-71a03fdadd81"
      },
      "execution_count": 20,
      "outputs": [
        {
          "output_type": "stream",
          "name": "stdout",
          "text": [
            "What is your height in inches: 63\n",
            "What is your weight in lbs: 138\n",
            "The BMI of the height 63.0 and your weight 138.0 is 24.4\n"
          ]
        }
      ]
    }
  ]
}